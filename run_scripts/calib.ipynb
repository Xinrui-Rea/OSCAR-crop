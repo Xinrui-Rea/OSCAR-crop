{
 "cells": [
  {
   "cell_type": "markdown",
   "metadata": {},
   "source": [
    "Get initial conditions for nitrogen input"
   ]
  },
  {
   "cell_type": "code",
   "execution_count": null,
   "metadata": {},
   "outputs": [],
   "source": [
    "import os, sys\n",
    "\n",
    "os.chdir('/h/u145/liuxinrui/CROP/')\n",
    "sys.path.insert(0, '/h/u145/liuxinrui/CROP/')\n",
    "\n",
    "from core_fct.fct_calib_CROP import calib_Nfertl_ISIMIP3b\n",
    "par = calib_Nfertl_ISIMIP3b()\n",
    "\n",
    "from core_fct.fct_calib_CROP import calib_Ndep_ISIMIP3b\n",
    "par = calib_Ndep_ISIMIP3b()"
   ]
  }
 ],
 "metadata": {
  "kernelspec": {
   "display_name": "CROP",
   "language": "python",
   "name": "python3"
  },
  "language_info": {
   "codemirror_mode": {
    "name": "ipython",
    "version": 3
   },
   "file_extension": ".py",
   "mimetype": "text/x-python",
   "name": "python",
   "nbconvert_exporter": "python",
   "pygments_lexer": "ipython3",
   "version": "undefined.undefined.undefined"
  }
 },
 "nbformat": 4,
 "nbformat_minor": 2
}

{
 "cells": [
  {
   "cell_type": "code",
   "execution_count": 1,
   "metadata": {},
   "outputs": [],
   "source": [
    "import os\n",
    "import sys\n",
    "import numpy as np\n",
    "import xarray as xr\n",
    "\n",
    "os.chdir('/h/u145/liuxinrui/CROP/')\n",
    "sys.path.insert(0, '/h/u145/liuxinrui/CROP/')"
   ]
  },
  {
   "cell_type": "code",
   "execution_count": 2,
   "metadata": {},
   "outputs": [
    {
     "name": "stdout",
     "output_type": "stream",
     "text": [
      "loading primary parameters\n",
      ">>>  Running split_region  for Southern Asia <<<\n",
      ">>>  Running split_region  for South-eastern Asia <<<\n",
      ">>>  Running split_region  for Africa <<<\n",
      ">>>  Running split_region  for Northern America <<<\n",
      ">>>  Running split_region  for USA <<<\n",
      ">>>  Running split_region  for CAN <<<\n",
      ">>>  Running split_region  for Latin America and the Caribbean <<<\n",
      ">>>  Running split_region  for BRA <<<\n",
      ">>>  Running split_region  for Eastern Asia <<<\n",
      ">>>  Running split_region  for CHN <<<\n",
      ">>>  Running split_region  for Central Asia <<<\n",
      ">>>  Running split_region  for Western Asia <<<\n",
      ">>>  Running split_region  for Europe <<<\n",
      ">>>  Running split_region  for RUS <<<\n",
      ">>>  Running split_region  for Oceania <<<\n",
      ">>>  Running split_region  for AUS <<<\n"
     ]
    }
   ],
   "source": [
    "## load parameters\n",
    "from core_fct.fct_loadP_CROP import load_ISIMIP_param\n",
    "Par = load_ISIMIP_param()"
   ]
  },
  {
   "cell_type": "code",
   "execution_count": 3,
   "metadata": {},
   "outputs": [
    {
     "name": "stdout",
     "output_type": "stream",
     "text": [
      "<xarray.DataArray 'a_CO2' (spc_crop: 6, reg_land: 292, irr: 2, mod_YD_crop: 8)>\n",
      "array([[[[4.73160929e-01, 3.49283470e-03, 6.21746448e-02, ...,\n",
      "          1.55579522e-01, 5.38869015e-01, 3.02997567e-03],\n",
      "         [6.27437923e-01, 1.23066396e-02, 1.72938793e-01, ...,\n",
      "          1.22508444e-01, 1.68584537e+00, 7.79334220e-02]],\n",
      "\n",
      "        [[           nan,            nan,            nan, ...,\n",
      "                     nan,            nan,            nan],\n",
      "         [           nan,            nan,            nan, ...,\n",
      "                     nan,            nan,            nan]],\n",
      "\n",
      "        [[4.95577160e-01, 8.23109217e-04, 1.51915659e-02, ...,\n",
      "          1.47573277e-01, 8.83099220e-01, 8.79210479e-02],\n",
      "         [5.03885655e-01, 9.34965206e-03, 4.05164461e-02, ...,\n",
      "          5.35729158e-02, 1.15805030e+00, 6.54001553e-02]],\n",
      "\n",
      "        ...,\n",
      "\n",
      "        [[4.49948543e-01, 2.81581285e-03, 3.92251675e-02, ...,\n",
      "          1.04572163e-01, 6.36116089e-01, 6.39276013e-03],\n",
      "         [3.12283737e-01, 8.04190135e-03, 1.55215083e-01, ...,\n",
      "...\n",
      "          9.27748571e-02, 1.44203189e+00, 1.39221312e-01],\n",
      "         [           nan, 9.00156187e-03, 9.90918763e-02, ...,\n",
      "          8.30391314e-02, 1.37959637e+00, 1.37097274e-01]],\n",
      "\n",
      "        ...,\n",
      "\n",
      "        [[           nan, 6.97318678e-03, 1.27848662e+00, ...,\n",
      "          4.29026291e-02, 1.06347300e+00, 1.44967920e-01],\n",
      "         [           nan, 1.13846138e-01, 8.41456296e+00, ...,\n",
      "          1.34628555e-01, 1.01206547e+00, 3.67015872e-01]],\n",
      "\n",
      "        [[           nan, 4.70628628e-03, 6.19110711e-01, ...,\n",
      "          1.29708847e-01, 1.11718022e+00, 2.35953643e-01],\n",
      "         [           nan, 3.49218595e-02, 9.99999959e+00, ...,\n",
      "          8.58882138e-02, 5.25009016e+00, 5.87683448e-02]],\n",
      "\n",
      "        [[           nan, 9.11772689e-03, 4.35350851e-01, ...,\n",
      "          1.58737321e-01, 1.45515166e+00, 2.26959182e-01],\n",
      "         [           nan, 8.67193510e-02, 4.99582025e-01, ...,\n",
      "          6.49691657e-02, 4.26150612e+00, 8.03046320e-02]]]])\n",
      "Coordinates:\n",
      "  * reg_land       (reg_land) int64 1 2 3 4 5 6 7 ... 287 288 289 290 291 292\n",
      "    reg_land_code  (reg_land) object 'AFG' 'ALA' 'ALB' ... 'YEM' 'ZMB' 'ZWE'\n",
      "    reg_land_name  (reg_land) object 'Afghanistan' 'Aland' ... 'Zimbabwe'\n",
      "  * spc_crop       (spc_crop) object 'mai' 'ri1' 'ri2' 'soy' 'swh' 'wwh'\n",
      "  * irr            (irr) object 'firr' 'noirr'\n",
      "  * mod_YD_crop    (mod_YD_crop) <U16 'CYGMA1p74' ... 'SIMPLACE-LINTUL5'\n"
     ]
    }
   ],
   "source": [
    "print(Par['a_CO2'])"
   ]
  },
  {
   "cell_type": "code",
   "execution_count": 4,
   "metadata": {},
   "outputs": [
    {
     "name": "stdout",
     "output_type": "stream",
     "text": [
      "<xarray.Dataset>\n",
      "Dimensions:        (year: 165, spc_crop: 6, reg_land: 292, scen_N_fertl: 2)\n",
      "Coordinates:\n",
      "  * reg_land       (reg_land) int64 1 2 3 4 5 6 7 ... 287 288 289 290 291 292\n",
      "  * scen_N_fertl   (scen_N_fertl) <U16 'ISIMIP3b-1850soc' 'ISIMIP3b-2015soc'\n",
      "  * year           (year) int64 1850 1851 1852 1853 1854 ... 2011 2012 2013 2014\n",
      "  * spc_crop       (spc_crop) <U3 'mai' 'ri1' 'ri2' 'soy' 'swh' 'wwh'\n",
      "    reg_land_name  (reg_land) object 'Afghanistan' 'Aland' ... 'Zimbabwe'\n",
      "    reg_land_code  (reg_land) object 'AFG' 'ALA' 'ALB' ... 'YEM' 'ZMB' 'ZWE'\n",
      "Data variables:\n",
      "    N_fertl        (year, spc_crop, reg_land, scen_N_fertl) float64 0.0 ... 3...\n",
      "<xarray.Dataset>\n",
      "Dimensions:        (year: 251, reg_land: 292, scen_N_dep: 5)\n",
      "Coordinates:\n",
      "  * reg_land       (reg_land) int64 1 2 3 4 5 6 7 ... 287 288 289 290 291 292\n",
      "  * scen_N_dep     (scen_N_dep) <U18 'ISIMIP3b-1850soc' ... 'ISIMIP3b-ssp585soc'\n",
      "    reg_land_name  (reg_land) object 'Afghanistan' 'Aland' ... 'Zimbabwe'\n",
      "    reg_land_code  (reg_land) object 'AFG' 'ALA' 'ALB' ... 'YEM' 'ZMB' 'ZWE'\n",
      "  * year           (year) int64 1850 1851 1852 1853 1854 ... 2097 2098 2099 2100\n",
      "Data variables:\n",
      "    N_dep          (year, reg_land, scen_N_dep) float64 0.5872 3.291 ... 3.814\n"
     ]
    }
   ],
   "source": [
    "## load drivers\n",
    "from core_fct.fct_loadD_CROP import load_Nfertl_scen, load_Ndep_scen\n",
    "For_Nfertl = load_Nfertl_scen(datasets=['ISIMIP3b'])\n",
    "print(For_Nfertl)\n",
    "\n",
    "For_Ndep = load_Ndep_scen(datasets=['ISIMIP3b'])\n",
    "print(For_Ndep)"
   ]
  },
  {
   "cell_type": "code",
   "execution_count": 5,
   "metadata": {},
   "outputs": [
    {
     "name": "stdout",
     "output_type": "stream",
     "text": [
      "generating MC configurations\n"
     ]
    }
   ],
   "source": [
    "## generate MC parameters\n",
    "from core_fct.fct_genMC import generate_config\n",
    "Par = generate_config(Par, 50)"
   ]
  },
  {
   "cell_type": "code",
   "execution_count": 6,
   "metadata": {},
   "outputs": [],
   "source": [
    "## load necessary input variables\n",
    "For_clim = xr.load_dataset('./input_data/observations/crop/land-climate_ISIMIP3a.nc')\n",
    "For_co2 = xr.load_dataset('./input_data/observations/crop/concentrations_ISIMIP3b.nc').sel(scen='historical', drop=True)\n",
    "\n",
    "## set run options\n",
    "ind0, ind1 = 1901, 2014\n",
    "For = xr.merge([For_clim, For_co2, For_Nfertl, For_Ndep]).sel(year=slice(ind0, ind1))\n",
    "\n",
    "## format drivers\n",
    "## Initial CO2 here is 399.95 ppm\n",
    "For['D_CO2'] = For.CO2 - Par['CO2_0']\n",
    "For['D_Tl'] = For.Tl - For.Tl.sel(year=slice(1901, 1930)).mean('year')\n",
    "For['D_Pl'] = For.Pl - For.Pl.sel(year=slice(1901, 1930)).mean('year')\n",
    "For = For.drop(['CO2', 'Tl', 'Pl'])\n",
    "For = For.fillna(0).sel(year=slice(1900)).combine_first(For)\n",
    "\n",
    "# generate MC drivers\n",
    "# from core_fct.fct_genMC import generate_drivers\n",
    "# For = generate_drivers(For, 500)"
   ]
  },
  {
   "cell_type": "code",
   "execution_count": 7,
   "metadata": {},
   "outputs": [],
   "source": [
    "## import offline crop emulator\n",
    "from core_fct.mod_process_CROP import CROP\n",
    "CROP = CROP()"
   ]
  },
  {
   "cell_type": "code",
   "execution_count": null,
   "metadata": {},
   "outputs": [
    {
     "name": "stdout",
     "output_type": "stream",
     "text": [
      "OSCAR_v3_CROP running\n",
      "year = 2014 (nt = 2)\n",
      "total running time: 2.5 minutes\n"
     ]
    },
    {
     "ename": "PermissionError",
     "evalue": "[Errno 13] Permission denied: b'/h/u145/liuxinrui/CROP/results/test.nc'",
     "output_type": "error",
     "traceback": [
      "\u001b[0;31m---------------------------------------------------------------------------\u001b[0m",
      "\u001b[0;31mKeyError\u001b[0m                                  Traceback (most recent call last)",
      "File \u001b[0;32m~/software/miniconda3/envs/CROP/lib/python3.12/site-packages/xarray/backends/file_manager.py:211\u001b[0m, in \u001b[0;36mCachingFileManager._acquire_with_cache_info\u001b[0;34m(self, needs_lock)\u001b[0m\n\u001b[1;32m    210\u001b[0m \u001b[38;5;28;01mtry\u001b[39;00m:\n\u001b[0;32m--> 211\u001b[0m     file \u001b[38;5;241m=\u001b[39m \u001b[38;5;28;43mself\u001b[39;49m\u001b[38;5;241;43m.\u001b[39;49m\u001b[43m_cache\u001b[49m\u001b[43m[\u001b[49m\u001b[38;5;28;43mself\u001b[39;49m\u001b[38;5;241;43m.\u001b[39;49m\u001b[43m_key\u001b[49m\u001b[43m]\u001b[49m\n\u001b[1;32m    212\u001b[0m \u001b[38;5;28;01mexcept\u001b[39;00m \u001b[38;5;167;01mKeyError\u001b[39;00m:\n",
      "File \u001b[0;32m~/software/miniconda3/envs/CROP/lib/python3.12/site-packages/xarray/backends/lru_cache.py:56\u001b[0m, in \u001b[0;36mLRUCache.__getitem__\u001b[0;34m(self, key)\u001b[0m\n\u001b[1;32m     55\u001b[0m \u001b[38;5;28;01mwith\u001b[39;00m \u001b[38;5;28mself\u001b[39m\u001b[38;5;241m.\u001b[39m_lock:\n\u001b[0;32m---> 56\u001b[0m     value \u001b[38;5;241m=\u001b[39m \u001b[38;5;28;43mself\u001b[39;49m\u001b[38;5;241;43m.\u001b[39;49m\u001b[43m_cache\u001b[49m\u001b[43m[\u001b[49m\u001b[43mkey\u001b[49m\u001b[43m]\u001b[49m\n\u001b[1;32m     57\u001b[0m     \u001b[38;5;28mself\u001b[39m\u001b[38;5;241m.\u001b[39m_cache\u001b[38;5;241m.\u001b[39mmove_to_end(key)\n",
      "\u001b[0;31mKeyError\u001b[0m: [<class 'netCDF4._netCDF4.Dataset'>, ('/h/u145/liuxinrui/CROP/results/test.nc',), 'a', (('clobber', True), ('diskless', False), ('format', 'NETCDF4'), ('persist', False)), '4c95c3e7-6d48-4763-833c-6742f18c6c5f']",
      "\nDuring handling of the above exception, another exception occurred:\n",
      "\u001b[0;31mPermissionError\u001b[0m                           Traceback (most recent call last)",
      "Cell \u001b[0;32mIn[8], line 2\u001b[0m\n\u001b[1;32m      1\u001b[0m Out \u001b[38;5;241m=\u001b[39m CROP(\u001b[38;5;28;01mNone\u001b[39;00m, Par, For, var_keep\u001b[38;5;241m=\u001b[39m[\u001b[38;5;124m'\u001b[39m\u001b[38;5;124mD_Tgs\u001b[39m\u001b[38;5;124m'\u001b[39m, \u001b[38;5;124m'\u001b[39m\u001b[38;5;124mD_Pgs\u001b[39m\u001b[38;5;124m'\u001b[39m, \u001b[38;5;124m'\u001b[39m\u001b[38;5;124mNI\u001b[39m\u001b[38;5;124m'\u001b[39m, \u001b[38;5;124m'\u001b[39m\u001b[38;5;124mRC\u001b[39m\u001b[38;5;124m'\u001b[39m, \u001b[38;5;124m'\u001b[39m\u001b[38;5;124mRT\u001b[39m\u001b[38;5;124m'\u001b[39m, \u001b[38;5;124m'\u001b[39m\u001b[38;5;124mRP\u001b[39m\u001b[38;5;124m'\u001b[39m, \u001b[38;5;124m'\u001b[39m\u001b[38;5;124mRN\u001b[39m\u001b[38;5;124m'\u001b[39m, \u001b[38;5;124m'\u001b[39m\u001b[38;5;124mYD\u001b[39m\u001b[38;5;124m'\u001b[39m])\n\u001b[0;32m----> 2\u001b[0m \u001b[43mOut\u001b[49m\u001b[38;5;241;43m.\u001b[39;49m\u001b[43mto_netcdf\u001b[49m\u001b[43m(\u001b[49m\u001b[38;5;124;43m'\u001b[39;49m\u001b[38;5;124;43m./results/test.nc\u001b[39;49m\u001b[38;5;124;43m'\u001b[39;49m\u001b[43m)\u001b[49m\n",
      "File \u001b[0;32m~/software/miniconda3/envs/CROP/lib/python3.12/site-packages/xarray/core/dataset.py:1957\u001b[0m, in \u001b[0;36mDataset.to_netcdf\u001b[0;34m(self, path, mode, format, group, engine, encoding, unlimited_dims, compute, invalid_netcdf)\u001b[0m\n\u001b[1;32m   1954\u001b[0m     encoding \u001b[38;5;241m=\u001b[39m {}\n\u001b[1;32m   1955\u001b[0m \u001b[38;5;28;01mfrom\u001b[39;00m \u001b[38;5;21;01mxarray\u001b[39;00m\u001b[38;5;21;01m.\u001b[39;00m\u001b[38;5;21;01mbackends\u001b[39;00m\u001b[38;5;21;01m.\u001b[39;00m\u001b[38;5;21;01mapi\u001b[39;00m \u001b[38;5;28;01mimport\u001b[39;00m to_netcdf\n\u001b[0;32m-> 1957\u001b[0m \u001b[38;5;28;01mreturn\u001b[39;00m \u001b[43mto_netcdf\u001b[49m\u001b[43m(\u001b[49m\u001b[43m  \u001b[49m\u001b[38;5;66;43;03m# type: ignore  # mypy cannot resolve the overloads:(\u001b[39;49;00m\n\u001b[1;32m   1958\u001b[0m \u001b[43m    \u001b[49m\u001b[38;5;28;43mself\u001b[39;49m\u001b[43m,\u001b[49m\n\u001b[1;32m   1959\u001b[0m \u001b[43m    \u001b[49m\u001b[43mpath\u001b[49m\u001b[43m,\u001b[49m\n\u001b[1;32m   1960\u001b[0m \u001b[43m    \u001b[49m\u001b[43mmode\u001b[49m\u001b[38;5;241;43m=\u001b[39;49m\u001b[43mmode\u001b[49m\u001b[43m,\u001b[49m\n\u001b[1;32m   1961\u001b[0m \u001b[43m    \u001b[49m\u001b[38;5;28;43mformat\u001b[39;49m\u001b[38;5;241;43m=\u001b[39;49m\u001b[38;5;28;43mformat\u001b[39;49m\u001b[43m,\u001b[49m\n\u001b[1;32m   1962\u001b[0m \u001b[43m    \u001b[49m\u001b[43mgroup\u001b[49m\u001b[38;5;241;43m=\u001b[39;49m\u001b[43mgroup\u001b[49m\u001b[43m,\u001b[49m\n\u001b[1;32m   1963\u001b[0m \u001b[43m    \u001b[49m\u001b[43mengine\u001b[49m\u001b[38;5;241;43m=\u001b[39;49m\u001b[43mengine\u001b[49m\u001b[43m,\u001b[49m\n\u001b[1;32m   1964\u001b[0m \u001b[43m    \u001b[49m\u001b[43mencoding\u001b[49m\u001b[38;5;241;43m=\u001b[39;49m\u001b[43mencoding\u001b[49m\u001b[43m,\u001b[49m\n\u001b[1;32m   1965\u001b[0m \u001b[43m    \u001b[49m\u001b[43munlimited_dims\u001b[49m\u001b[38;5;241;43m=\u001b[39;49m\u001b[43munlimited_dims\u001b[49m\u001b[43m,\u001b[49m\n\u001b[1;32m   1966\u001b[0m \u001b[43m    \u001b[49m\u001b[43mcompute\u001b[49m\u001b[38;5;241;43m=\u001b[39;49m\u001b[43mcompute\u001b[49m\u001b[43m,\u001b[49m\n\u001b[1;32m   1967\u001b[0m \u001b[43m    \u001b[49m\u001b[43mmultifile\u001b[49m\u001b[38;5;241;43m=\u001b[39;49m\u001b[38;5;28;43;01mFalse\u001b[39;49;00m\u001b[43m,\u001b[49m\n\u001b[1;32m   1968\u001b[0m \u001b[43m    \u001b[49m\u001b[43minvalid_netcdf\u001b[49m\u001b[38;5;241;43m=\u001b[39;49m\u001b[43minvalid_netcdf\u001b[49m\u001b[43m,\u001b[49m\n\u001b[1;32m   1969\u001b[0m \u001b[43m\u001b[49m\u001b[43m)\u001b[49m\n",
      "File \u001b[0;32m~/software/miniconda3/envs/CROP/lib/python3.12/site-packages/xarray/backends/api.py:1255\u001b[0m, in \u001b[0;36mto_netcdf\u001b[0;34m(dataset, path_or_file, mode, format, group, engine, encoding, unlimited_dims, compute, multifile, invalid_netcdf)\u001b[0m\n\u001b[1;32m   1251\u001b[0m     \u001b[38;5;28;01melse\u001b[39;00m:\n\u001b[1;32m   1252\u001b[0m         \u001b[38;5;28;01mraise\u001b[39;00m \u001b[38;5;167;01mValueError\u001b[39;00m(\n\u001b[1;32m   1253\u001b[0m             \u001b[38;5;124mf\u001b[39m\u001b[38;5;124m\"\u001b[39m\u001b[38;5;124munrecognized option \u001b[39m\u001b[38;5;124m'\u001b[39m\u001b[38;5;124minvalid_netcdf\u001b[39m\u001b[38;5;124m'\u001b[39m\u001b[38;5;124m for engine \u001b[39m\u001b[38;5;132;01m{\u001b[39;00mengine\u001b[38;5;132;01m}\u001b[39;00m\u001b[38;5;124m\"\u001b[39m\n\u001b[1;32m   1254\u001b[0m         )\n\u001b[0;32m-> 1255\u001b[0m store \u001b[38;5;241m=\u001b[39m \u001b[43mstore_open\u001b[49m\u001b[43m(\u001b[49m\u001b[43mtarget\u001b[49m\u001b[43m,\u001b[49m\u001b[43m \u001b[49m\u001b[43mmode\u001b[49m\u001b[43m,\u001b[49m\u001b[43m \u001b[49m\u001b[38;5;28;43mformat\u001b[39;49m\u001b[43m,\u001b[49m\u001b[43m \u001b[49m\u001b[43mgroup\u001b[49m\u001b[43m,\u001b[49m\u001b[43m \u001b[49m\u001b[38;5;241;43m*\u001b[39;49m\u001b[38;5;241;43m*\u001b[39;49m\u001b[43mkwargs\u001b[49m\u001b[43m)\u001b[49m\n\u001b[1;32m   1257\u001b[0m \u001b[38;5;28;01mif\u001b[39;00m unlimited_dims \u001b[38;5;129;01mis\u001b[39;00m \u001b[38;5;28;01mNone\u001b[39;00m:\n\u001b[1;32m   1258\u001b[0m     unlimited_dims \u001b[38;5;241m=\u001b[39m dataset\u001b[38;5;241m.\u001b[39mencoding\u001b[38;5;241m.\u001b[39mget(\u001b[38;5;124m\"\u001b[39m\u001b[38;5;124munlimited_dims\u001b[39m\u001b[38;5;124m\"\u001b[39m, \u001b[38;5;28;01mNone\u001b[39;00m)\n",
      "File \u001b[0;32m~/software/miniconda3/envs/CROP/lib/python3.12/site-packages/xarray/backends/netCDF4_.py:391\u001b[0m, in \u001b[0;36mNetCDF4DataStore.open\u001b[0;34m(cls, filename, mode, format, group, clobber, diskless, persist, lock, lock_maker, autoclose)\u001b[0m\n\u001b[1;32m    385\u001b[0m kwargs \u001b[38;5;241m=\u001b[39m \u001b[38;5;28mdict\u001b[39m(\n\u001b[1;32m    386\u001b[0m     clobber\u001b[38;5;241m=\u001b[39mclobber, diskless\u001b[38;5;241m=\u001b[39mdiskless, persist\u001b[38;5;241m=\u001b[39mpersist, \u001b[38;5;28mformat\u001b[39m\u001b[38;5;241m=\u001b[39m\u001b[38;5;28mformat\u001b[39m\n\u001b[1;32m    387\u001b[0m )\n\u001b[1;32m    388\u001b[0m manager \u001b[38;5;241m=\u001b[39m CachingFileManager(\n\u001b[1;32m    389\u001b[0m     netCDF4\u001b[38;5;241m.\u001b[39mDataset, filename, mode\u001b[38;5;241m=\u001b[39mmode, kwargs\u001b[38;5;241m=\u001b[39mkwargs\n\u001b[1;32m    390\u001b[0m )\n\u001b[0;32m--> 391\u001b[0m \u001b[38;5;28;01mreturn\u001b[39;00m \u001b[38;5;28;43mcls\u001b[39;49m\u001b[43m(\u001b[49m\u001b[43mmanager\u001b[49m\u001b[43m,\u001b[49m\u001b[43m \u001b[49m\u001b[43mgroup\u001b[49m\u001b[38;5;241;43m=\u001b[39;49m\u001b[43mgroup\u001b[49m\u001b[43m,\u001b[49m\u001b[43m \u001b[49m\u001b[43mmode\u001b[49m\u001b[38;5;241;43m=\u001b[39;49m\u001b[43mmode\u001b[49m\u001b[43m,\u001b[49m\u001b[43m \u001b[49m\u001b[43mlock\u001b[49m\u001b[38;5;241;43m=\u001b[39;49m\u001b[43mlock\u001b[49m\u001b[43m,\u001b[49m\u001b[43m \u001b[49m\u001b[43mautoclose\u001b[49m\u001b[38;5;241;43m=\u001b[39;49m\u001b[43mautoclose\u001b[49m\u001b[43m)\u001b[49m\n",
      "File \u001b[0;32m~/software/miniconda3/envs/CROP/lib/python3.12/site-packages/xarray/backends/netCDF4_.py:338\u001b[0m, in \u001b[0;36mNetCDF4DataStore.__init__\u001b[0;34m(self, manager, group, mode, lock, autoclose)\u001b[0m\n\u001b[1;32m    336\u001b[0m \u001b[38;5;28mself\u001b[39m\u001b[38;5;241m.\u001b[39m_group \u001b[38;5;241m=\u001b[39m group\n\u001b[1;32m    337\u001b[0m \u001b[38;5;28mself\u001b[39m\u001b[38;5;241m.\u001b[39m_mode \u001b[38;5;241m=\u001b[39m mode\n\u001b[0;32m--> 338\u001b[0m \u001b[38;5;28mself\u001b[39m\u001b[38;5;241m.\u001b[39mformat \u001b[38;5;241m=\u001b[39m \u001b[38;5;28;43mself\u001b[39;49m\u001b[38;5;241;43m.\u001b[39;49m\u001b[43mds\u001b[49m\u001b[38;5;241m.\u001b[39mdata_model\n\u001b[1;32m    339\u001b[0m \u001b[38;5;28mself\u001b[39m\u001b[38;5;241m.\u001b[39m_filename \u001b[38;5;241m=\u001b[39m \u001b[38;5;28mself\u001b[39m\u001b[38;5;241m.\u001b[39mds\u001b[38;5;241m.\u001b[39mfilepath()\n\u001b[1;32m    340\u001b[0m \u001b[38;5;28mself\u001b[39m\u001b[38;5;241m.\u001b[39mis_remote \u001b[38;5;241m=\u001b[39m is_remote_uri(\u001b[38;5;28mself\u001b[39m\u001b[38;5;241m.\u001b[39m_filename)\n",
      "File \u001b[0;32m~/software/miniconda3/envs/CROP/lib/python3.12/site-packages/xarray/backends/netCDF4_.py:400\u001b[0m, in \u001b[0;36mNetCDF4DataStore.ds\u001b[0;34m(self)\u001b[0m\n\u001b[1;32m    398\u001b[0m \u001b[38;5;129m@property\u001b[39m\n\u001b[1;32m    399\u001b[0m \u001b[38;5;28;01mdef\u001b[39;00m \u001b[38;5;21mds\u001b[39m(\u001b[38;5;28mself\u001b[39m):\n\u001b[0;32m--> 400\u001b[0m     \u001b[38;5;28;01mreturn\u001b[39;00m \u001b[38;5;28;43mself\u001b[39;49m\u001b[38;5;241;43m.\u001b[39;49m\u001b[43m_acquire\u001b[49m\u001b[43m(\u001b[49m\u001b[43m)\u001b[49m\n",
      "File \u001b[0;32m~/software/miniconda3/envs/CROP/lib/python3.12/site-packages/xarray/backends/netCDF4_.py:394\u001b[0m, in \u001b[0;36mNetCDF4DataStore._acquire\u001b[0;34m(self, needs_lock)\u001b[0m\n\u001b[1;32m    393\u001b[0m \u001b[38;5;28;01mdef\u001b[39;00m \u001b[38;5;21m_acquire\u001b[39m(\u001b[38;5;28mself\u001b[39m, needs_lock\u001b[38;5;241m=\u001b[39m\u001b[38;5;28;01mTrue\u001b[39;00m):\n\u001b[0;32m--> 394\u001b[0m \u001b[43m    \u001b[49m\u001b[38;5;28;43;01mwith\u001b[39;49;00m\u001b[43m \u001b[49m\u001b[38;5;28;43mself\u001b[39;49m\u001b[38;5;241;43m.\u001b[39;49m\u001b[43m_manager\u001b[49m\u001b[38;5;241;43m.\u001b[39;49m\u001b[43macquire_context\u001b[49m\u001b[43m(\u001b[49m\u001b[43mneeds_lock\u001b[49m\u001b[43m)\u001b[49m\u001b[43m \u001b[49m\u001b[38;5;28;43;01mas\u001b[39;49;00m\u001b[43m \u001b[49m\u001b[43mroot\u001b[49m\u001b[43m:\u001b[49m\n\u001b[1;32m    395\u001b[0m \u001b[43m        \u001b[49m\u001b[43mds\u001b[49m\u001b[43m \u001b[49m\u001b[38;5;241;43m=\u001b[39;49m\u001b[43m \u001b[49m\u001b[43m_nc4_require_group\u001b[49m\u001b[43m(\u001b[49m\u001b[43mroot\u001b[49m\u001b[43m,\u001b[49m\u001b[43m \u001b[49m\u001b[38;5;28;43mself\u001b[39;49m\u001b[38;5;241;43m.\u001b[39;49m\u001b[43m_group\u001b[49m\u001b[43m,\u001b[49m\u001b[43m \u001b[49m\u001b[38;5;28;43mself\u001b[39;49m\u001b[38;5;241;43m.\u001b[39;49m\u001b[43m_mode\u001b[49m\u001b[43m)\u001b[49m\n\u001b[1;32m    396\u001b[0m     \u001b[38;5;28;01mreturn\u001b[39;00m ds\n",
      "File \u001b[0;32m~/software/miniconda3/envs/CROP/lib/python3.12/contextlib.py:137\u001b[0m, in \u001b[0;36m_GeneratorContextManager.__enter__\u001b[0;34m(self)\u001b[0m\n\u001b[1;32m    135\u001b[0m \u001b[38;5;28;01mdel\u001b[39;00m \u001b[38;5;28mself\u001b[39m\u001b[38;5;241m.\u001b[39margs, \u001b[38;5;28mself\u001b[39m\u001b[38;5;241m.\u001b[39mkwds, \u001b[38;5;28mself\u001b[39m\u001b[38;5;241m.\u001b[39mfunc\n\u001b[1;32m    136\u001b[0m \u001b[38;5;28;01mtry\u001b[39;00m:\n\u001b[0;32m--> 137\u001b[0m     \u001b[38;5;28;01mreturn\u001b[39;00m \u001b[38;5;28;43mnext\u001b[39;49m\u001b[43m(\u001b[49m\u001b[38;5;28;43mself\u001b[39;49m\u001b[38;5;241;43m.\u001b[39;49m\u001b[43mgen\u001b[49m\u001b[43m)\u001b[49m\n\u001b[1;32m    138\u001b[0m \u001b[38;5;28;01mexcept\u001b[39;00m \u001b[38;5;167;01mStopIteration\u001b[39;00m:\n\u001b[1;32m    139\u001b[0m     \u001b[38;5;28;01mraise\u001b[39;00m \u001b[38;5;167;01mRuntimeError\u001b[39;00m(\u001b[38;5;124m\"\u001b[39m\u001b[38;5;124mgenerator didn\u001b[39m\u001b[38;5;124m'\u001b[39m\u001b[38;5;124mt yield\u001b[39m\u001b[38;5;124m\"\u001b[39m) \u001b[38;5;28;01mfrom\u001b[39;00m \u001b[38;5;28;01mNone\u001b[39;00m\n",
      "File \u001b[0;32m~/software/miniconda3/envs/CROP/lib/python3.12/site-packages/xarray/backends/file_manager.py:199\u001b[0m, in \u001b[0;36mCachingFileManager.acquire_context\u001b[0;34m(self, needs_lock)\u001b[0m\n\u001b[1;32m    196\u001b[0m \u001b[38;5;129m@contextlib\u001b[39m\u001b[38;5;241m.\u001b[39mcontextmanager\n\u001b[1;32m    197\u001b[0m \u001b[38;5;28;01mdef\u001b[39;00m \u001b[38;5;21macquire_context\u001b[39m(\u001b[38;5;28mself\u001b[39m, needs_lock\u001b[38;5;241m=\u001b[39m\u001b[38;5;28;01mTrue\u001b[39;00m):\n\u001b[1;32m    198\u001b[0m \u001b[38;5;250m    \u001b[39m\u001b[38;5;124;03m\"\"\"Context manager for acquiring a file.\"\"\"\u001b[39;00m\n\u001b[0;32m--> 199\u001b[0m     file, cached \u001b[38;5;241m=\u001b[39m \u001b[38;5;28;43mself\u001b[39;49m\u001b[38;5;241;43m.\u001b[39;49m\u001b[43m_acquire_with_cache_info\u001b[49m\u001b[43m(\u001b[49m\u001b[43mneeds_lock\u001b[49m\u001b[43m)\u001b[49m\n\u001b[1;32m    200\u001b[0m     \u001b[38;5;28;01mtry\u001b[39;00m:\n\u001b[1;32m    201\u001b[0m         \u001b[38;5;28;01myield\u001b[39;00m file\n",
      "File \u001b[0;32m~/software/miniconda3/envs/CROP/lib/python3.12/site-packages/xarray/backends/file_manager.py:217\u001b[0m, in \u001b[0;36mCachingFileManager._acquire_with_cache_info\u001b[0;34m(self, needs_lock)\u001b[0m\n\u001b[1;32m    215\u001b[0m     kwargs \u001b[38;5;241m=\u001b[39m kwargs\u001b[38;5;241m.\u001b[39mcopy()\n\u001b[1;32m    216\u001b[0m     kwargs[\u001b[38;5;124m\"\u001b[39m\u001b[38;5;124mmode\u001b[39m\u001b[38;5;124m\"\u001b[39m] \u001b[38;5;241m=\u001b[39m \u001b[38;5;28mself\u001b[39m\u001b[38;5;241m.\u001b[39m_mode\n\u001b[0;32m--> 217\u001b[0m file \u001b[38;5;241m=\u001b[39m \u001b[38;5;28;43mself\u001b[39;49m\u001b[38;5;241;43m.\u001b[39;49m\u001b[43m_opener\u001b[49m\u001b[43m(\u001b[49m\u001b[38;5;241;43m*\u001b[39;49m\u001b[38;5;28;43mself\u001b[39;49m\u001b[38;5;241;43m.\u001b[39;49m\u001b[43m_args\u001b[49m\u001b[43m,\u001b[49m\u001b[43m \u001b[49m\u001b[38;5;241;43m*\u001b[39;49m\u001b[38;5;241;43m*\u001b[39;49m\u001b[43mkwargs\u001b[49m\u001b[43m)\u001b[49m\n\u001b[1;32m    218\u001b[0m \u001b[38;5;28;01mif\u001b[39;00m \u001b[38;5;28mself\u001b[39m\u001b[38;5;241m.\u001b[39m_mode \u001b[38;5;241m==\u001b[39m \u001b[38;5;124m\"\u001b[39m\u001b[38;5;124mw\u001b[39m\u001b[38;5;124m\"\u001b[39m:\n\u001b[1;32m    219\u001b[0m     \u001b[38;5;66;03m# ensure file doesn't get overridden when opened again\u001b[39;00m\n\u001b[1;32m    220\u001b[0m     \u001b[38;5;28mself\u001b[39m\u001b[38;5;241m.\u001b[39m_mode \u001b[38;5;241m=\u001b[39m \u001b[38;5;124m\"\u001b[39m\u001b[38;5;124ma\u001b[39m\u001b[38;5;124m\"\u001b[39m\n",
      "File \u001b[0;32msrc/netCDF4/_netCDF4.pyx:2463\u001b[0m, in \u001b[0;36mnetCDF4._netCDF4.Dataset.__init__\u001b[0;34m()\u001b[0m\n",
      "File \u001b[0;32msrc/netCDF4/_netCDF4.pyx:2026\u001b[0m, in \u001b[0;36mnetCDF4._netCDF4._ensure_nc_success\u001b[0;34m()\u001b[0m\n",
      "\u001b[0;31mPermissionError\u001b[0m: [Errno 13] Permission denied: b'/h/u145/liuxinrui/CROP/results/test.nc'"
     ]
    }
   ],
   "source": [
    "Out = CROP(None, Par, For, var_keep=['D_Tgs', 'D_Pgs', 'NI', 'RC', 'RT', 'RP', 'RN', 'YD'])\n",
    "Out.to_netcdf('./results/test.nc')"
   ]
  },
  {
   "cell_type": "code",
   "execution_count": null,
   "metadata": {},
   "outputs": [],
   "source": []
  },
  {
   "cell_type": "code",
   "execution_count": null,
   "metadata": {},
   "outputs": [],
   "source": [
    "import numpy as np\n",
    "import xarray as xr\n",
    "\n",
    "maskfile = './input_data/mask/mask_0.5x0.5.nc'\n",
    "ds = xr.load_dataset('./results/test.nc')\n",
    "\n",
    "from core_fct.fct_pre_CROP import create_global_map\n",
    "import matplotlib.pyplot as plt\n",
    "\n",
    "ax = create_global_map(ds['YD'].sel(spc_crop='mai', irr='firr', mod_YD_crop='CYGMA1p74', mod_RN_fct='MM', data_N_fertl='ISIMIP3a', data_N_dep='ISIMIP3a', mod_bnf_soy='Ma_2022', year=slice(1981, 2010)).mean(dim=['year', 'mod_clim_gcm']), maskfile, levels=np.linspace(0,10,11))\n",
    "ax.set_title('Maize (tDM/ha)', fontsize=14)\n",
    "plt.tight_layout()\n",
    "plt.savefig('mai.png')"
   ]
  },
  {
   "cell_type": "code",
   "execution_count": 3,
   "metadata": {},
   "outputs": [
    {
     "name": "stdout",
     "output_type": "stream",
     "text": [
      "{0: [], 1: ['D_Pgs', 'RC', 'D_Tgs', 'NI'], 2: ['RN', 'D_WI', 'RT'], 3: ['RW'], 4: ['YD']}\n",
      "{'N_dep', 'N_fertl', 'D_CO2', 'D_Pl', 'D_Tl'}\n",
      "{'RN', 'D_Pgs', 'RC', 'D_Tgs', 'RW', 'D_WI', 'NI', 'RT'}\n",
      "{'YD'}\n",
      "dict_keys(['RC', 'D_Tgs', 'RT', 'D_Pgs', 'D_WI', 'RW', 'NI', 'RN', 'YD'])\n",
      "set()\n",
      "set()\n",
      "{'RN', 'D_Pgs', 'RC', 'D_Tgs', 'RW', 'D_WI', 'NI', 'RT', 'YD'}\n"
     ]
    }
   ],
   "source": [
    "print(CROP.proc_levels())\n",
    "print(CROP.var_in)\n",
    "print(CROP.var_mid)\n",
    "print(CROP.var_out)\n",
    "print(CROP._processes.keys())\n",
    "print(CROP.var_prog)\n",
    "print(CROP.var_node)\n",
    "print(CROP.var_diag)"
   ]
  },
  {
   "cell_type": "code",
   "execution_count": 31,
   "metadata": {},
   "outputs": [
    {
     "name": "stdout",
     "output_type": "stream",
     "text": [
      "<xarray.DataArray ()>\n",
      "array(2.49152668)\n",
      "Coordinates:\n",
      "    spc_crop     <U3 'mai'\n",
      "    reg_land     int64 368\n",
      "    mod_YD_crop  <U16 'SIMPLACE-LINTUL5' <xarray.DataArray ()>\n",
      "array(0.41708516)\n",
      "Coordinates:\n",
      "    spc_crop     <U3 'mai'\n",
      "    reg_land     int64 368\n",
      "    mod_YD_crop  <U16 'SIMPLACE-LINTUL5'\n"
     ]
    }
   ],
   "source": [
    "func1 = lambda x, a: a*x + 1\n",
    "func2 = lambda x, a: np.log1p(a*x) + 1\n",
    "func3 = lambda x, a, b: (1 + a*np.log1p(x)) / (1 + b*x)\n",
    "func4 = lambda x, a, b: -b*np.expm1(-a*x) + 1\n",
    "func5 = lambda x, a, b: np.exp(-a*(x-b)**2+a*b**2)\n",
    "func6 = lambda x, a, b: np.log1p(np.exp(-a*(x-b)**2 + a*b**2)) / np.log(2)\n",
    "func7 = lambda x, a, b: (np.exp(-a*b)+np.exp(a*b))/(np.exp(a*(x-b))+np.exp(-a*(x-b)))\n",
    "func8 = lambda x, a, b: (np.exp(a*b) + 1) / (np.exp(-a*(x-b)) + 1)\n",
    "func9 = lambda x, a, b, c: (np.exp(-a*b)+np.exp(c*b))/(np.exp(a*(x-b))+np.exp(-c*(x-b)))\n",
    "\n",
    "RC_switch = Par['RC_switch'].loc[{'mod_YD_crop':'CYGMA1p74'}]\n",
    "D_CO2 = For['D_CO2']\n",
    "a_CO2 = Par['a_CO2'].loc[{'spc_crop':'mai', 'reg_land':24, 'mod_YD_crop':'CYGMA1p74'}]\n",
    "b_CO2 = Par['b_CO2'].loc[{'spc_crop':'mai', 'reg_land':24, 'mod_YD_crop':'CYGMA1p74'}]\n",
    "\n",
    "RC_1st = func1(D_CO2/Par.CO2_pi, a_CO2)\n",
    "RC_2nd = func2(D_CO2/Par.CO2_pi, a_CO2)\n",
    "RC_3rd = func3(D_CO2/Par.CO2_pi, a_CO2, b_CO2)\n",
    "RC_4th = func4(D_CO2/Par.CO2_pi, a_CO2, b_CO2)\n",
    "RC_5th = func5(D_CO2/Par.CO2_pi, a_CO2, b_CO2)\n",
    "RC_6th = func6(D_CO2/Par.CO2_pi, a_CO2, b_CO2)\n",
    "RC = xr.concat([RC_1st.assign_coords(fct_YD=1), RC_2nd.assign_coords(fct_YD=2), RC_3rd.assign_coords(fct_YD=3), RC_4th.assign_coords(fct_YD=4), RC_5th.assign_coords(fct_YD=5), RC_6th.assign_coords(fct_YD=6)], dim='fct_YD')\n",
    "RC0 = (RC_switch*RC).sum('fct_YD', min_count=1)\n",
    "\n",
    "print(RC)\n",
    "print(RC_switch)\n",
    "print(RC0)\n",
    "\n",
    "a_WI = Par['a_WI'].loc[{'spc_crop':'mai', 'reg_land':368, 'mod_YD_crop':'SIMPLACE-LINTUL5'}]\n",
    "b_WI = Par['b_WI'].loc[{'spc_crop':'mai', 'reg_land':368, 'mod_YD_crop':'SIMPLACE-LINTUL5'}]\n",
    "Pgs_0 = Par['Pgs_0'].loc[{'spc_crop':'mai', 'reg_land':368, 'mod_YD_crop':'SIMPLACE-LINTUL5'}]\n",
    "\n",
    "D_WI = For['D_Pl'].loc[{'reg_land':368}]*Par['w_Pgs'].loc[{'spc_crop':'mai', 'reg_land':368}]/Pgs_0\n",
    "\n",
    "RW = func8(D_WI, a_WI, b_WI)\n",
    "print(RW.max(), RW.min())"
   ]
  },
  {
   "cell_type": "code",
   "execution_count": 19,
   "metadata": {},
   "outputs": [
    {
     "name": "stdout",
     "output_type": "stream",
     "text": [
      "=== 0 ===\n",
      "( 0 ) 4 7 9\n",
      "=== 1 ===\n",
      "( 1 ) 2 7 8\n",
      "=== 2 ===\n",
      "( 2 ) 2 7 8\n",
      "=== 3 ===\n",
      "( 3 ) 6 9 8\n",
      "=== 4 ===\n",
      "( 4 ) 1 9 9\n",
      "=== 5 ===\n",
      "( 5 ) 4 7 8\n",
      "=== 6 ===\n",
      "( 6 ) 3 9 8\n",
      "=== 7 ===\n",
      "( 7 ) 2 5 8\n",
      "=== 8 ===\n",
      "( 8 ) 6 9 8\n",
      "=== 9 ===\n",
      "( 9 ) 1 9 9\n",
      "=== 10 ===\n",
      "( 10 ) 4 7 8\n",
      "=== 11 ===\n",
      "( 11 ) 3 7 9\n",
      "=== 12 ===\n",
      "( 12 ) 6 9 8\n",
      "=== 13 ===\n",
      "( 13 ) 1 9 9\n",
      "=== 14 ===\n",
      "( 14 ) 3 7 9\n",
      "=== 15 ===\n",
      "( 15 ) 2 7 8\n",
      "=== 16 ===\n",
      "( 16 ) 4 7 8\n",
      "=== 17 ===\n",
      "( 17 ) 4 7 8\n",
      "=== 18 ===\n",
      "( 18 ) 2 7 8\n",
      "=== 19 ===\n",
      "( 19 ) 3 7 9\n",
      "=== 20 ===\n",
      "( 20 ) 3 9 8\n",
      "=== 21 ===\n",
      "( 21 ) 3 9 8\n",
      "=== 22 ===\n",
      "( 22 ) 4 7 8\n",
      "=== 23 ===\n",
      "( 23 ) 4 7 9\n",
      "=== 24 ===\n",
      "( 24 ) 4 7 9\n",
      "=== 25 ===\n",
      "( 25 ) 6 9 8\n",
      "=== 26 ===\n",
      "( 26 ) 4 7 8\n",
      "=== 27 ===\n",
      "( 27 ) 3 7 9\n",
      "=== 28 ===\n",
      "( 28 ) 3 7 9\n",
      "=== 29 ===\n",
      "( 29 ) 4 9 8\n",
      "=== 30 ===\n",
      "( 30 ) 4 7 9\n",
      "=== 31 ===\n",
      "( 31 ) 4 7 9\n",
      "=== 32 ===\n",
      "( 32 ) 3 9 8\n",
      "=== 33 ===\n",
      "( 33 ) 2 5 8\n",
      "=== 34 ===\n",
      "( 34 ) 6 9 8\n",
      "=== 35 ===\n",
      "( 35 ) 3 7 9\n",
      "=== 36 ===\n",
      "( 36 ) 2 5 8\n",
      "=== 37 ===\n",
      "( 37 ) 6 9 8\n",
      "=== 38 ===\n",
      "( 38 ) 1 9 9\n",
      "=== 39 ===\n",
      "( 39 ) 2 7 8\n",
      "=== 40 ===\n",
      "( 40 ) 4 9 8\n",
      "=== 41 ===\n",
      "( 41 ) 3 7 9\n",
      "=== 42 ===\n",
      "( 42 ) 2 5 8\n",
      "=== 43 ===\n",
      "( 43 ) 2 7 8\n",
      "=== 44 ===\n",
      "( 44 ) 3 7 9\n",
      "=== 45 ===\n",
      "( 45 ) 1 9 9\n",
      "=== 46 ===\n",
      "( 46 ) 1 9 9\n",
      "=== 47 ===\n",
      "( 47 ) 3 7 9\n",
      "=== 48 ===\n",
      "( 48 ) 6 9 8\n",
      "=== 49 ===\n",
      "( 49 ) 6 9 8\n"
     ]
    }
   ],
   "source": [
    "for n in np.arange(50):\n",
    "    print('(', n, ')', Par['RC_switch'].loc[{'config':n}].values.tolist().index(1)+1, Par['RT_switch'].loc[{'config':n}].values.tolist().index(1)+1, Par['RW_switch'].loc[{'config':n}].values.tolist().index(1)+1)"
   ]
  },
  {
   "cell_type": "code",
   "execution_count": 2,
   "metadata": {},
   "outputs": [
    {
     "name": "stdout",
     "output_type": "stream",
     "text": [
      "{1: ['D_Tgs', 'NI', 'RC', 'D_Pgs'], 2: ['RN', 'D_WI', 'RT'], 3: ['RW'], 4: ['YD']}\n",
      "OSCAR_v3_CROP running\n",
      "year = 2015 (nt = 3)\n",
      "total running time: 1.9 minutes\n"
     ]
    }
   ],
   "source": [
    "Out = CROP(None, Par, For, var_keep=['D_Tgs', 'D_Pgs', 'NI', 'RC', 'RT', 'RW', 'RN', 'YD'])\n",
    "Out.to_netcdf('./results/test.nc')"
   ]
  },
  {
   "cell_type": "code",
   "execution_count": 4,
   "metadata": {},
   "outputs": [
    {
     "name": "stdout",
     "output_type": "stream",
     "text": [
      "<xarray.DataArray 'RC' ()>\n",
      "array(327.134545) <xarray.DataArray 'RC' ()>\n",
      "array(0.00252701)\n",
      "<xarray.DataArray 'RT' ()>\n",
      "array(inf) <xarray.DataArray 'RT' ()>\n",
      "array(0.)\n",
      "<xarray.DataArray 'RW' ()>\n",
      "array(6911035.22484634) <xarray.DataArray 'RW' ()>\n",
      "array(2.12064667e-08)\n",
      "<xarray.DataArray 'RN' ()>\n",
      "array(128.41903588) <xarray.DataArray 'RN' ()>\n",
      "array(-164.38372841)\n",
      "<xarray.DataArray 'YD' ()>\n",
      "array(inf) <xarray.DataArray 'YD' ()>\n",
      "array(-inf)\n"
     ]
    }
   ],
   "source": [
    "print(Out['RC'].max(), Out['RC'].min())\n",
    "print(Out['RT'].max(), Out['RT'].min())\n",
    "print(Out['RW'].max(), Out['RW'].min())\n",
    "print(Out['RN'].max(), Out['RN'].min())\n",
    "print(Out['YD'].max(), Out['YD'].min())"
   ]
  },
  {
   "cell_type": "code",
   "execution_count": 7,
   "metadata": {},
   "outputs": [
    {
     "name": "stdout",
     "output_type": "stream",
     "text": [
      "<xarray.DataArray 'year' (spc_crop: 6, reg_land: 222, mod_clim_gcm: 4)>\n",
      "array([[[2000., 2000., 2000., 2000.],\n",
      "        [2000., 2000., 2000., 2000.],\n",
      "        [2000., 2000., 2000., 2000.],\n",
      "        ...,\n",
      "        [2000., 2000., 2000., 2000.],\n",
      "        [2000., 2000., 2000., 2000.],\n",
      "        [2000., 2000., 2000., 2000.]],\n",
      "\n",
      "       [[2000., 2000., 2000., 2000.],\n",
      "        [2000., 2000., 2000., 2000.],\n",
      "        [2000., 2000., 2000., 2000.],\n",
      "        ...,\n",
      "        [2000., 2000., 2000., 2000.],\n",
      "        [2000., 2000., 2000., 2000.],\n",
      "        [2000., 2000., 2000., 2000.]],\n",
      "\n",
      "       [[2000., 2000., 2000., 2000.],\n",
      "        [2000., 2000., 2000., 2000.],\n",
      "        [2000., 2000., 2000., 2000.],\n",
      "        ...,\n",
      "...\n",
      "        ...,\n",
      "        [2000., 2000., 2000., 2000.],\n",
      "        [2000., 2000., 2000., 2000.],\n",
      "        [2000., 2000., 2000., 2000.]],\n",
      "\n",
      "       [[2000., 2000., 2000., 2000.],\n",
      "        [2000., 2000., 2000., 2000.],\n",
      "        [2000., 2000., 2000., 2000.],\n",
      "        ...,\n",
      "        [2000., 2000., 2000., 2000.],\n",
      "        [2000., 2000., 2000., 2000.],\n",
      "        [2000., 2000., 2000., 2000.]],\n",
      "\n",
      "       [[2000., 2000., 2000., 2000.],\n",
      "        [2000., 2000., 2000., 2000.],\n",
      "        [2000., 2000., 2000., 2000.],\n",
      "        ...,\n",
      "        [2000., 2000., 2000., 2000.],\n",
      "        [2000., 2000., 2000., 2000.],\n",
      "        [2000., 2000., 2000., 2000.]]])\n",
      "Coordinates:\n",
      "    year          int64 2000\n",
      "  * spc_crop      (spc_crop) object 'mai' 'ri1' 'ri2' 'soy' 'swh' 'wwh'\n",
      "  * reg_land      (reg_land) int64 4 8 12 16 20 24 ... 858 860 862 882 887 894\n",
      "  * mod_clim_gcm  (mod_clim_gcm) object 'GSWP3-W5E5' '20CRv3-W5E5' ... '20CRv3'\n"
     ]
    }
   ],
   "source": [
    "year = Out.year.rolling(year=5, center=True).mean()\n",
    "year, D_Tgs = xr.broadcast(year, Out['D_Tgs'])\n",
    "print(year.loc[{'year':2000}])"
   ]
  }
 ],
 "metadata": {
  "kernelspec": {
   "display_name": "CROP",
   "language": "python",
   "name": "python3"
  },
  "language_info": {
   "codemirror_mode": {
    "name": "ipython",
    "version": 3
   },
   "file_extension": ".py",
   "mimetype": "text/x-python",
   "name": "python",
   "nbconvert_exporter": "python",
   "pygments_lexer": "ipython3",
   "version": "3.12.4"
  }
 },
 "nbformat": 4,
 "nbformat_minor": 2
}
